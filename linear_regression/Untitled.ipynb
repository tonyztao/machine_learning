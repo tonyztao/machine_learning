{
 "cells": [
  {
   "cell_type": "code",
   "execution_count": 1,
   "metadata": {
    "collapsed": false
   },
   "outputs": [
    {
     "name": "stdout",
     "output_type": "stream",
     "text": [
      "0.0252490077788\n",
      "[ 0.62869916]\n"
     ]
    }
   ],
   "source": [
    "from sklearn import datasets, linear_model\n",
    "from sklearn.cross_validation import train_test_split  \n",
    "from sklearn import metrics\n",
    "import numpy as np\n",
    "import matplotlib.pyplot as plt\n",
    "\n",
    "def feature_scaling(X, axis=0):\n",
    "    new = X - np.mean(X, axis=0)\n",
    "    return new / np.std(new, axis=0)  \n",
    "\n",
    "# reading data\n",
    "diabetes = datasets.load_diabetes()\n",
    "diabetes_X = diabetes.data[:, np.newaxis, 2]\n",
    "diabetes_Y = diabetes.target\n",
    "\n",
    "# feature scaling \n",
    "diabetes_x = feature_scaling(diabetes_X)\n",
    "diabetes_y = feature_scaling(diabetes_Y)\n",
    "\n",
    "# data split into training data and testing data\n",
    "X_train,X_test, y_train, y_test =  train_test_split(diabetes_x,diabetes_y,test_size=0.4, random_state=0) \n",
    "\n",
    "# model \n",
    "linreg = linear_model.LinearRegression()\n",
    "linreg.fit(X_train, y_train)\n",
    "\n",
    "# print parameters \n",
    "#常数项\n",
    "print (linreg.intercept_)\n",
    "#特征的参数\n",
    "print (linreg.coef_) \n",
    "\n",
    "yhat = linreg.intercept_ + linreg.coef_*X_train"
   ]
  },
  {
   "cell_type": "code",
   "execution_count": 3,
   "metadata": {
    "collapsed": false
   },
   "outputs": [
    {
     "data": {
      "text/plain": [
       "(265, 1)"
      ]
     },
     "execution_count": 3,
     "metadata": {},
     "output_type": "execute_result"
    }
   ],
   "source": [
    "yhat.shape"
   ]
  },
  {
   "cell_type": "code",
   "execution_count": 4,
   "metadata": {
    "collapsed": false
   },
   "outputs": [
    {
     "data": {
      "text/plain": [
       "(265, 1)"
      ]
     },
     "execution_count": 4,
     "metadata": {},
     "output_type": "execute_result"
    }
   ],
   "source": [
    "X_train.shape"
   ]
  },
  {
   "cell_type": "code",
   "execution_count": 5,
   "metadata": {
    "collapsed": true
   },
   "outputs": [],
   "source": [
    "import numpy as np\n",
    "\n",
    "\n",
    "def loadDataSet(fileName):      #general function to parse tab -delimited floats\n",
    "    numFeat = len(open(fileName).readline().split('\\t')) - 1 #get number of fields \n",
    "    dataMat = []; labelMat = []\n",
    "    fr = open(fileName)\n",
    "    for line in fr.readlines():\n",
    "        lineArr =[]\n",
    "        curLine = line.strip().split('\\t')\n",
    "        for i in range(numFeat):\n",
    "            lineArr.append(float(curLine[i]))\n",
    "        dataMat.append(lineArr)\n",
    "        labelMat.append(float(curLine[-1]))\n",
    "    return dataMat,labelMat\n",
    "\n",
    "def main():\n",
    "    a,b = loadDataSet(r'D:\\git_repository\\linear_regression\\Linear Regression\\least_square_data.txt')\n",
    "\n",
    "if __name__ == \"__main__\":\n",
    "    main()"
   ]
  },
  {
   "cell_type": "code",
   "execution_count": 6,
   "metadata": {
    "collapsed": false
   },
   "outputs": [
    {
     "ename": "NameError",
     "evalue": "name 'a' is not defined",
     "output_type": "error",
     "traceback": [
      "\u001b[0;31m---------------------------------------------------------------------------\u001b[0m",
      "\u001b[0;31mNameError\u001b[0m                                 Traceback (most recent call last)",
      "\u001b[0;32m<ipython-input-6-60b725f10c9c>\u001b[0m in \u001b[0;36m<module>\u001b[0;34m()\u001b[0m\n\u001b[0;32m----> 1\u001b[0;31m \u001b[0ma\u001b[0m\u001b[1;33m\u001b[0m\u001b[0m\n\u001b[0m",
      "\u001b[0;31mNameError\u001b[0m: name 'a' is not defined"
     ]
    }
   ],
   "source": [
    "a"
   ]
  },
  {
   "cell_type": "code",
   "execution_count": 7,
   "metadata": {
    "collapsed": true
   },
   "outputs": [],
   "source": [
    "main()"
   ]
  },
  {
   "cell_type": "code",
   "execution_count": 8,
   "metadata": {
    "collapsed": false
   },
   "outputs": [
    {
     "ename": "NameError",
     "evalue": "name 'a' is not defined",
     "output_type": "error",
     "traceback": [
      "\u001b[0;31m---------------------------------------------------------------------------\u001b[0m",
      "\u001b[0;31mNameError\u001b[0m                                 Traceback (most recent call last)",
      "\u001b[0;32m<ipython-input-8-60b725f10c9c>\u001b[0m in \u001b[0;36m<module>\u001b[0;34m()\u001b[0m\n\u001b[0;32m----> 1\u001b[0;31m \u001b[0ma\u001b[0m\u001b[1;33m\u001b[0m\u001b[0m\n\u001b[0m",
      "\u001b[0;31mNameError\u001b[0m: name 'a' is not defined"
     ]
    }
   ],
   "source": [
    "a"
   ]
  },
  {
   "cell_type": "code",
   "execution_count": 9,
   "metadata": {
    "collapsed": true
   },
   "outputs": [],
   "source": [
    "import numpy as np\n",
    "\n",
    "\n",
    "def loadDataSet(fileName):      #general function to parse tab -delimited floats\n",
    "    numFeat = len(open(fileName).readline().split('\\t')) - 1 #get number of fields \n",
    "    dataMat = []; labelMat = []\n",
    "    fr = open(fileName)\n",
    "    for line in fr.readlines():\n",
    "        lineArr =[]\n",
    "        curLine = line.strip().split('\\t')\n",
    "        for i in range(numFeat):\n",
    "            lineArr.append(float(curLine[i]))\n",
    "        dataMat.append(lineArr)\n",
    "        labelMat.append(float(curLine[-1]))\n",
    "    return dataMat,labelMat\n",
    "\n",
    "    \n",
    "\n",
    "if __name__ == \"__main__\":\n",
    "    \n",
    "    a,b = loadDataSet(r'D:\\git_repository\\linear_regression\\Linear Regression\\least_square_data.txt')"
   ]
  },
  {
   "cell_type": "code",
   "execution_count": 10,
   "metadata": {
    "collapsed": false
   },
   "outputs": [
    {
     "data": {
      "text/plain": [
       "[[1.0, 0.067732],\n",
       " [1.0, 0.42781],\n",
       " [1.0, 0.995731],\n",
       " [1.0, 0.738336],\n",
       " [1.0, 0.981083],\n",
       " [1.0, 0.526171],\n",
       " [1.0, 0.378887],\n",
       " [1.0, 0.033859],\n",
       " [1.0, 0.132791],\n",
       " [1.0, 0.138306],\n",
       " [1.0, 0.247809],\n",
       " [1.0, 0.64827],\n",
       " [1.0, 0.731209],\n",
       " [1.0, 0.236833],\n",
       " [1.0, 0.969788],\n",
       " [1.0, 0.607492],\n",
       " [1.0, 0.358622],\n",
       " [1.0, 0.147846],\n",
       " [1.0, 0.63782],\n",
       " [1.0, 0.230372],\n",
       " [1.0, 0.070237],\n",
       " [1.0, 0.067154],\n",
       " [1.0, 0.925577],\n",
       " [1.0, 0.717733],\n",
       " [1.0, 0.015371],\n",
       " [1.0, 0.33507],\n",
       " [1.0, 0.040486],\n",
       " [1.0, 0.212575],\n",
       " [1.0, 0.617218],\n",
       " [1.0, 0.541196],\n",
       " [1.0, 0.045353],\n",
       " [1.0, 0.126762],\n",
       " [1.0, 0.556486],\n",
       " [1.0, 0.901144],\n",
       " [1.0, 0.958476],\n",
       " [1.0, 0.274561],\n",
       " [1.0, 0.394396],\n",
       " [1.0, 0.87248],\n",
       " [1.0, 0.409932],\n",
       " [1.0, 0.908969],\n",
       " [1.0, 0.166819],\n",
       " [1.0, 0.665016],\n",
       " [1.0, 0.263727],\n",
       " [1.0, 0.231214],\n",
       " [1.0, 0.552928],\n",
       " [1.0, 0.047744],\n",
       " [1.0, 0.365746],\n",
       " [1.0, 0.495002],\n",
       " [1.0, 0.493466],\n",
       " [1.0, 0.792101],\n",
       " [1.0, 0.76966],\n",
       " [1.0, 0.251821],\n",
       " [1.0, 0.181951],\n",
       " [1.0, 0.808177],\n",
       " [1.0, 0.334116],\n",
       " [1.0, 0.33863],\n",
       " [1.0, 0.452584],\n",
       " [1.0, 0.69477],\n",
       " [1.0, 0.590902],\n",
       " [1.0, 0.307928],\n",
       " [1.0, 0.148364],\n",
       " [1.0, 0.70218],\n",
       " [1.0, 0.721544],\n",
       " [1.0, 0.666886],\n",
       " [1.0, 0.124931],\n",
       " [1.0, 0.618286],\n",
       " [1.0, 0.381086],\n",
       " [1.0, 0.385643],\n",
       " [1.0, 0.777175],\n",
       " [1.0, 0.116089],\n",
       " [1.0, 0.115487],\n",
       " [1.0, 0.66351],\n",
       " [1.0, 0.254884],\n",
       " [1.0, 0.993888],\n",
       " [1.0, 0.295434],\n",
       " [1.0, 0.952523],\n",
       " [1.0, 0.307047],\n",
       " [1.0, 0.277261],\n",
       " [1.0, 0.279101],\n",
       " [1.0, 0.175724],\n",
       " [1.0, 0.156383],\n",
       " [1.0, 0.733165],\n",
       " [1.0, 0.848142],\n",
       " [1.0, 0.771184],\n",
       " [1.0, 0.429492],\n",
       " [1.0, 0.162176],\n",
       " [1.0, 0.917064],\n",
       " [1.0, 0.315044],\n",
       " [1.0, 0.201473],\n",
       " [1.0, 0.297038],\n",
       " [1.0, 0.336647],\n",
       " [1.0, 0.666109],\n",
       " [1.0, 0.583888],\n",
       " [1.0, 0.085031],\n",
       " [1.0, 0.687006],\n",
       " [1.0, 0.949655],\n",
       " [1.0, 0.189912],\n",
       " [1.0, 0.844027],\n",
       " [1.0, 0.333288],\n",
       " [1.0, 0.427035],\n",
       " [1.0, 0.466369],\n",
       " [1.0, 0.550659],\n",
       " [1.0, 0.278213],\n",
       " [1.0, 0.918769],\n",
       " [1.0, 0.886555],\n",
       " [1.0, 0.569488],\n",
       " [1.0, 0.066379],\n",
       " [1.0, 0.335751],\n",
       " [1.0, 0.426863],\n",
       " [1.0, 0.395746],\n",
       " [1.0, 0.694221],\n",
       " [1.0, 0.27276],\n",
       " [1.0, 0.503495],\n",
       " [1.0, 0.067119],\n",
       " [1.0, 0.038326],\n",
       " [1.0, 0.599122],\n",
       " [1.0, 0.947054],\n",
       " [1.0, 0.671279],\n",
       " [1.0, 0.434811],\n",
       " [1.0, 0.509381],\n",
       " [1.0, 0.749442],\n",
       " [1.0, 0.058014],\n",
       " [1.0, 0.482978],\n",
       " [1.0, 0.466776],\n",
       " [1.0, 0.357767],\n",
       " [1.0, 0.949123],\n",
       " [1.0, 0.41732],\n",
       " [1.0, 0.920461],\n",
       " [1.0, 0.156433],\n",
       " [1.0, 0.656662],\n",
       " [1.0, 0.616418],\n",
       " [1.0, 0.853428],\n",
       " [1.0, 0.133295],\n",
       " [1.0, 0.693007],\n",
       " [1.0, 0.178449],\n",
       " [1.0, 0.199526],\n",
       " [1.0, 0.073224],\n",
       " [1.0, 0.286515],\n",
       " [1.0, 0.182026],\n",
       " [1.0, 0.621523],\n",
       " [1.0, 0.344584],\n",
       " [1.0, 0.398556],\n",
       " [1.0, 0.480369],\n",
       " [1.0, 0.15335],\n",
       " [1.0, 0.171846],\n",
       " [1.0, 0.867082],\n",
       " [1.0, 0.223855],\n",
       " [1.0, 0.528301],\n",
       " [1.0, 0.890192],\n",
       " [1.0, 0.106352],\n",
       " [1.0, 0.917886],\n",
       " [1.0, 0.014855],\n",
       " [1.0, 0.567682],\n",
       " [1.0, 0.068854],\n",
       " [1.0, 0.603535],\n",
       " [1.0, 0.53205],\n",
       " [1.0, 0.651362],\n",
       " [1.0, 0.901225],\n",
       " [1.0, 0.204337],\n",
       " [1.0, 0.696081],\n",
       " [1.0, 0.963924],\n",
       " [1.0, 0.98139],\n",
       " [1.0, 0.987911],\n",
       " [1.0, 0.990947],\n",
       " [1.0, 0.736021],\n",
       " [1.0, 0.253574],\n",
       " [1.0, 0.674722],\n",
       " [1.0, 0.939368],\n",
       " [1.0, 0.235419],\n",
       " [1.0, 0.110521],\n",
       " [1.0, 0.218023],\n",
       " [1.0, 0.869778],\n",
       " [1.0, 0.19683],\n",
       " [1.0, 0.958178],\n",
       " [1.0, 0.972673],\n",
       " [1.0, 0.745797],\n",
       " [1.0, 0.445674],\n",
       " [1.0, 0.470557],\n",
       " [1.0, 0.549236],\n",
       " [1.0, 0.335691],\n",
       " [1.0, 0.884739],\n",
       " [1.0, 0.918916],\n",
       " [1.0, 0.441815],\n",
       " [1.0, 0.116598],\n",
       " [1.0, 0.359274],\n",
       " [1.0, 0.814811],\n",
       " [1.0, 0.387125],\n",
       " [1.0, 0.982243],\n",
       " [1.0, 0.78088],\n",
       " [1.0, 0.652565],\n",
       " [1.0, 0.87003],\n",
       " [1.0, 0.604755],\n",
       " [1.0, 0.255212],\n",
       " [1.0, 0.730546],\n",
       " [1.0, 0.493829],\n",
       " [1.0, 0.257017],\n",
       " [1.0, 0.833735],\n",
       " [1.0, 0.070095],\n",
       " [1.0, 0.52707],\n",
       " [1.0, 0.116163]]"
      ]
     },
     "execution_count": 10,
     "metadata": {},
     "output_type": "execute_result"
    }
   ],
   "source": [
    "a"
   ]
  },
  {
   "cell_type": "code",
   "execution_count": 13,
   "metadata": {
    "collapsed": false
   },
   "outputs": [],
   "source": [
    "X_data = np.mat(a)"
   ]
  },
  {
   "cell_type": "code",
   "execution_count": 14,
   "metadata": {
    "collapsed": false
   },
   "outputs": [
    {
     "data": {
      "text/plain": [
       "(200, 2)"
      ]
     },
     "execution_count": 14,
     "metadata": {},
     "output_type": "execute_result"
    }
   ],
   "source": [
    "X_data.shape"
   ]
  },
  {
   "cell_type": "code",
   "execution_count": 15,
   "metadata": {
    "collapsed": true
   },
   "outputs": [],
   "source": [
    "Y_data = np.mat(b)"
   ]
  },
  {
   "cell_type": "code",
   "execution_count": 18,
   "metadata": {
    "collapsed": false
   },
   "outputs": [
    {
     "data": {
      "text/plain": [
       "(200, 1)"
      ]
     },
     "execution_count": 18,
     "metadata": {},
     "output_type": "execute_result"
    }
   ],
   "source": [
    "Y_data.T.shape"
   ]
  },
  {
   "cell_type": "code",
   "execution_count": null,
   "metadata": {
    "collapsed": true
   },
   "outputs": [],
   "source": []
  },
  {
   "cell_type": "code",
   "execution_count": null,
   "metadata": {
    "collapsed": true
   },
   "outputs": [],
   "source": []
  },
  {
   "cell_type": "code",
   "execution_count": null,
   "metadata": {
    "collapsed": true
   },
   "outputs": [],
   "source": []
  },
  {
   "cell_type": "code",
   "execution_count": null,
   "metadata": {
    "collapsed": true
   },
   "outputs": [],
   "source": []
  },
  {
   "cell_type": "code",
   "execution_count": null,
   "metadata": {
    "collapsed": true
   },
   "outputs": [],
   "source": []
  },
  {
   "cell_type": "code",
   "execution_count": null,
   "metadata": {
    "collapsed": true
   },
   "outputs": [],
   "source": []
  }
 ],
 "metadata": {
  "anaconda-cloud": {},
  "kernelspec": {
   "display_name": "Python [conda root]",
   "language": "python",
   "name": "conda-root-py"
  },
  "language_info": {
   "codemirror_mode": {
    "name": "ipython",
    "version": 3
   },
   "file_extension": ".py",
   "mimetype": "text/x-python",
   "name": "python",
   "nbconvert_exporter": "python",
   "pygments_lexer": "ipython3",
   "version": "3.5.2"
  }
 },
 "nbformat": 4,
 "nbformat_minor": 1
}
